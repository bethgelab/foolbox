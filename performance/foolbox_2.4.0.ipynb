{
 "cells": [
  {
   "cell_type": "code",
   "execution_count": 1,
   "metadata": {
    "ExecuteTime": {
     "end_time": "2020-09-22T11:29:30.813170Z",
     "start_time": "2020-09-22T11:29:30.809602Z"
    }
   },
   "outputs": [],
   "source": [
    "#!sudo pip3 install \"foolbox==2.4.0\""
   ]
  },
  {
   "cell_type": "code",
   "execution_count": 2,
   "metadata": {
    "ExecuteTime": {
     "end_time": "2020-09-22T11:29:31.754681Z",
     "start_time": "2020-09-22T11:29:30.817140Z"
    }
   },
   "outputs": [
    {
     "name": "stdout",
     "output_type": "stream",
     "text": [
      "1.4.0+cu100\n",
      "0.5.0+cu100\n",
      "2.4.0\n",
      "1.19.0\n"
     ]
    }
   ],
   "source": [
    "import time\n",
    "import warnings\n",
    "import torch\n",
    "import torchvision\n",
    "import foolbox\n",
    "import numpy as np\n",
    "print(torch.__version__)\n",
    "print(torchvision.__version__)\n",
    "print(foolbox.__version__)\n",
    "print(np.__version__)"
   ]
  },
  {
   "cell_type": "code",
   "execution_count": 3,
   "metadata": {
    "ExecuteTime": {
     "end_time": "2020-09-22T11:29:32.065131Z",
     "start_time": "2020-09-22T11:29:31.757110Z"
    }
   },
   "outputs": [],
   "source": [
    "model = torchvision.models.resnet18(pretrained=True).eval()"
   ]
  },
  {
   "cell_type": "code",
   "execution_count": 4,
   "metadata": {
    "ExecuteTime": {
     "end_time": "2020-09-22T11:29:34.604144Z",
     "start_time": "2020-09-22T11:29:32.067716Z"
    }
   },
   "outputs": [],
   "source": [
    "preprocessing = (np.asarray([0.485, 0.456, 0.406]).reshape((3, 1, 1)), np.asarray([0.229, 0.224, 0.225]).reshape((3, 1, 1)))\n",
    "fmodel = foolbox.models.PyTorchModel(model, bounds=(0, 1), num_classes=1000, preprocessing=preprocessing)"
   ]
  },
  {
   "cell_type": "code",
   "execution_count": 5,
   "metadata": {
    "ExecuteTime": {
     "end_time": "2020-09-22T11:29:34.622741Z",
     "start_time": "2020-09-22T11:29:34.607488Z"
    }
   },
   "outputs": [
    {
     "name": "stdout",
     "output_type": "stream",
     "text": [
      "(16, 3, 224, 224) (16,)\n"
     ]
    }
   ],
   "source": [
    "images = np.load(\"images.npy\")\n",
    "labels = np.load(\"labels.npy\")\n",
    "print(images.shape, labels.shape)"
   ]
  },
  {
   "cell_type": "code",
   "execution_count": 6,
   "metadata": {
    "ExecuteTime": {
     "end_time": "2020-09-22T11:29:34.657459Z",
     "start_time": "2020-09-22T11:29:34.627529Z"
    }
   },
   "outputs": [
    {
     "name": "stdout",
     "output_type": "stream",
     "text": [
      "0.9375\n"
     ]
    }
   ],
   "source": [
    "print(foolbox.utils.accuracy(fmodel, images, labels))"
   ]
  },
  {
   "cell_type": "code",
   "execution_count": 7,
   "metadata": {
    "ExecuteTime": {
     "end_time": "2020-09-22T11:29:44.575791Z",
     "start_time": "2020-09-22T11:29:34.659735Z"
    }
   },
   "outputs": [
    {
     "name": "stdout",
     "output_type": "stream",
     "text": [
      "12 ms ± 1.34 ms per loop (mean ± std. dev. of 7 runs, 100 loops each)\n"
     ]
    }
   ],
   "source": [
    "%timeit foolbox.utils.accuracy(fmodel, images, labels)"
   ]
  },
  {
   "cell_type": "code",
   "execution_count": 8,
   "metadata": {
    "ExecuteTime": {
     "end_time": "2020-09-22T11:29:48.627217Z",
     "start_time": "2020-09-22T11:29:44.577774Z"
    }
   },
   "outputs": [
    {
     "name": "stdout",
     "output_type": "stream",
     "text": [
      "4.99 ms ± 378 µs per loop (mean ± std. dev. of 7 runs, 100 loops each)\n"
     ]
    }
   ],
   "source": [
    "%timeit foolbox.utils.accuracy(fmodel, images[:1], labels[:1])"
   ]
  },
  {
   "cell_type": "code",
   "execution_count": 9,
   "metadata": {
    "ExecuteTime": {
     "end_time": "2020-09-22T11:29:48.631941Z",
     "start_time": "2020-09-22T11:29:48.629172Z"
    }
   },
   "outputs": [],
   "source": [
    "attack = foolbox.attacks.PGD(fmodel, distance=foolbox.distances.Linf)"
   ]
  },
  {
   "cell_type": "code",
   "execution_count": 10,
   "metadata": {
    "ExecuteTime": {
     "end_time": "2020-09-22T11:29:48.640940Z",
     "start_time": "2020-09-22T11:29:48.633852Z"
    }
   },
   "outputs": [],
   "source": [
    "def run_attack(attack, fmodel, images, labels, epsilons):\n",
    "    advs = attack(images, labels, unpack=False)\n",
    "    success = [[adv.distance.value <= eps for eps in epsilons] for adv in advs]\n",
    "    success = np.asarray(success).T\n",
    "    return success"
   ]
  },
  {
   "cell_type": "code",
   "execution_count": 11,
   "metadata": {
    "ExecuteTime": {
     "end_time": "2020-09-22T11:30:26.142256Z",
     "start_time": "2020-09-22T11:29:48.642818Z"
    }
   },
   "outputs": [
    {
     "name": "stdout",
     "output_type": "stream",
     "text": [
      "attack took 37.5 seconds\n"
     ]
    }
   ],
   "source": [
    "# apply the attack\n",
    "start = time.time()\n",
    "attack = foolbox.attacks.PGD(fmodel, distance=foolbox.distances.Linf)\n",
    "epsilons = [0.002]\n",
    "success = run_attack(attack, fmodel, images, labels, epsilons=epsilons)\n",
    "print(f\"attack took {time.time() - start:.1f} seconds\")"
   ]
  },
  {
   "cell_type": "code",
   "execution_count": 12,
   "metadata": {
    "ExecuteTime": {
     "end_time": "2020-09-22T11:30:26.150286Z",
     "start_time": "2020-09-22T11:30:26.144970Z"
    }
   },
   "outputs": [
    {
     "name": "stdout",
     "output_type": "stream",
     "text": [
      "0.002 0.0625\n"
     ]
    }
   ],
   "source": [
    "# calculate and report the robust accuracy\n",
    "robust_accuracy = 1 - success.mean(axis=-1)\n",
    "for eps, acc in zip(epsilons, robust_accuracy):\n",
    "    print(eps, acc.item())"
   ]
  },
  {
   "cell_type": "code",
   "execution_count": 13,
   "metadata": {
    "ExecuteTime": {
     "end_time": "2020-09-22T11:31:03.022531Z",
     "start_time": "2020-09-22T11:30:26.152141Z"
    }
   },
   "outputs": [
    {
     "name": "stdout",
     "output_type": "stream",
     "text": [
      "attack took 36.9 seconds\n"
     ]
    }
   ],
   "source": [
    "# apply the attack\n",
    "start = time.time()\n",
    "attack = foolbox.attacks.PGD(fmodel, distance=foolbox.distances.Linf)\n",
    "epsilons = [0.0, 0.001, 0.01, 0.03, 0.1, 0.3, 0.5, 1.0]\n",
    "success = run_attack(attack, fmodel, images, labels, epsilons=epsilons)\n",
    "print(f\"attack took {time.time() - start:.1f} seconds\")"
   ]
  },
  {
   "cell_type": "code",
   "execution_count": 14,
   "metadata": {
    "ExecuteTime": {
     "end_time": "2020-09-22T11:31:03.029732Z",
     "start_time": "2020-09-22T11:31:03.024679Z"
    }
   },
   "outputs": [
    {
     "name": "stdout",
     "output_type": "stream",
     "text": [
      "0.0 0.9375\n",
      "0.001 0.375\n",
      "0.01 0.0\n",
      "0.03 0.0\n",
      "0.1 0.0\n",
      "0.3 0.0\n",
      "0.5 0.0\n",
      "1.0 0.0\n"
     ]
    }
   ],
   "source": [
    "# calculate and report the robust accuracy\n",
    "robust_accuracy = 1 - success.mean(axis=-1)\n",
    "for eps, acc in zip(epsilons, robust_accuracy):\n",
    "    print(eps, acc.item())"
   ]
  },
  {
   "cell_type": "code",
   "execution_count": null,
   "metadata": {},
   "outputs": [],
   "source": []
  }
 ],
 "metadata": {
  "kernelspec": {
   "display_name": "Python 3",
   "language": "python",
   "name": "python3"
  },
  "language_info": {
   "codemirror_mode": {
    "name": "ipython",
    "version": 3
   },
   "file_extension": ".py",
   "mimetype": "text/x-python",
   "name": "python",
   "nbconvert_exporter": "python",
   "pygments_lexer": "ipython3",
   "version": "3.6.9"
  }
 },
 "nbformat": 4,
 "nbformat_minor": 4
}
